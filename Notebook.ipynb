{
 "cells": [
  {
   "cell_type": "markdown",
   "id": "3607c23f",
   "metadata": {},
   "source": [
    "# Data Science Tools and Ecosystem\n",
    "The title of this notebook is Notebook.ipynb."
   ]
  },
  {
   "cell_type": "markdown",
   "id": "ed2103f3",
   "metadata": {},
   "source": [
    "## Author\n",
    "Marc Escher"
   ]
  },
  {
   "cell_type": "markdown",
   "id": "9fa01a0e",
   "metadata": {},
   "source": [
    "In this notebook, Data Science Tools and Ecosystems are summarized."
   ]
  },
  {
   "cell_type": "markdown",
   "id": "0cfed4aa",
   "metadata": {},
   "source": [
    "**Objectives:**\n",
    "- List popular languages for Data Science\n",
    "- List popular libraries for Data Science\n",
    "- List popular tools for Data Science"
   ]
  },
  {
   "cell_type": "markdown",
   "id": "0a9f2213",
   "metadata": {},
   "source": [
    "Some of the popular languages that Data Scientists use are:\n",
    "1. Python\n",
    "2. R\n",
    "3. Scala\n",
    "4. Java\n",
    "5. SQL"
   ]
  },
  {
   "cell_type": "markdown",
   "id": "96d326e0",
   "metadata": {},
   "source": [
    "Some of the commonly used libraries used by Data Scientists include:\n",
    "1. Numpy\n",
    "2. Pandas\n",
    "3. Scipy\n",
    "4. TensorFlow"
   ]
  },
  {
   "cell_type": "markdown",
   "id": "eccdec64",
   "metadata": {},
   "source": [
    "|Data Science Tools|\n",
    "----\n",
    "JupyterLab\n",
    "Spyder\n",
    "Google Colab"
   ]
  },
  {
   "cell_type": "markdown",
   "id": "cbd91527",
   "metadata": {},
   "source": [
    "Below are a few examples of evaluating arithmetic expressions in Python."
   ]
  },
  {
   "cell_type": "code",
   "execution_count": 1,
   "id": "143fd9c6",
   "metadata": {},
   "outputs": [
    {
     "data": {
      "text/plain": [
       "17"
      ]
     },
     "execution_count": 1,
     "metadata": {},
     "output_type": "execute_result"
    }
   ],
   "source": [
    "#This a simple arithmetic expression to mutiply then add integers.\n",
    "(3*4)+5"
   ]
  },
  {
   "cell_type": "code",
   "execution_count": 5,
   "id": "ce6b2005",
   "metadata": {},
   "outputs": [
    {
     "name": "stdout",
     "output_type": "stream",
     "text": [
      "200 minutes equal 3.33 hours, rounded to two decimals.\n"
     ]
    }
   ],
   "source": [
    "#This will convert 200 minutes to hours by diving by 60\n",
    "def minute_convert(minute):\n",
    "    hours=round(minute/60,2)\n",
    "    if minute>1:\n",
    "        print(str(minute)+\" minutes equal \"+str(hours)+\" hours, rounded to two decimals.\")\n",
    "    else:\n",
    "        if hours==1:\n",
    "            print(str(minute)+\" minutes equal \"+str(hours)+\" hour.\")\n",
    "        else:\n",
    "            print(str(minute)+\" minute equals \"+str(hours)+\" hours, rounded to two decimals.\")\n",
    "minute_convert(200)"
   ]
  },
  {
   "cell_type": "code",
   "execution_count": null,
   "id": "66bdccb1",
   "metadata": {},
   "outputs": [],
   "source": []
  }
 ],
 "metadata": {
  "kernelspec": {
   "display_name": "Python 3 (ipykernel)",
   "language": "python",
   "name": "python3"
  },
  "language_info": {
   "codemirror_mode": {
    "name": "ipython",
    "version": 3
   },
   "file_extension": ".py",
   "mimetype": "text/x-python",
   "name": "python",
   "nbconvert_exporter": "python",
   "pygments_lexer": "ipython3",
   "version": "3.11.5"
  }
 },
 "nbformat": 4,
 "nbformat_minor": 5
}
